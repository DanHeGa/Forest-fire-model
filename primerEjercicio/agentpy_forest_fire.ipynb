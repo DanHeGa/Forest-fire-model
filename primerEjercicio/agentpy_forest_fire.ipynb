{
 "cells": [
  {
   "cell_type": "markdown",
   "metadata": {},
   "source": [
    "# Forest fire"
   ]
  },
  {
   "cell_type": "markdown",
   "metadata": {},
   "source": [
    "This notebook presents an agent-based model that simulates a forest fire.\n",
    "It demonstrates how to use the [agentpy](https://agentpy.readthedocs.io) package to work with a spatial grid and create animations, and perform a parameter sweep. "
   ]
  },
  {
   "cell_type": "code",
   "execution_count": null,
   "metadata": {},
   "outputs": [],
   "source": [
    "print(\"Hello World\")\n",
    "\n"
   ]
  },
  {
   "cell_type": "code",
   "execution_count": 6,
   "metadata": {},
   "outputs": [],
   "source": [
    "# Model design\n",
    "import agentpy as ap\n",
    "\n",
    "# Visualization\n",
    "import matplotlib.pyplot as plt\n",
    "import seaborn as sns\n",
    "import IPython\n",
    "import random"
   ]
  },
  {
   "cell_type": "markdown",
   "metadata": {},
   "source": [
    "## About the model\n",
    "\n",
    "The model ist based on the [NetLogo FireSimple model](http://ccl.northwestern.edu/netlogo/models/FireSimple) by Uri Wilensky and William Rand, who describe it as follows:\n",
    "\n",
    "> \"This model simulates the spread of a fire through a forest. It shows that the fire's chance of reaching the right edge of the forest depends critically on the density of trees. This is an example of a common feature of complex systems, the presence of a non-linear threshold or critical parameter. [...] \n",
    ">\n",
    "> The fire starts on the left edge of the forest, and spreads to neighboring trees. The fire spreads in four directions: north, east, south, and west.\n",
    ">\n",
    ">The model assumes there is no wind. So, the fire must have trees along its path in order to advance. That is, the fire cannot skip over an unwooded area (patch), so such a patch blocks the fire's motion in that direction.\""
   ]
  },
  {
   "cell_type": "markdown",
   "metadata": {},
   "source": [
    "## Model definition"
   ]
  },
  {
   "cell_type": "code",
   "execution_count": null,
   "metadata": {},
   "outputs": [],
   "source": [
    "class LakeModel(ap.Model):\n",
    "    \n",
    "    def setup(self):\n",
    "        \n",
    "        # # Create agents (trees) \n",
    "        # n_trees = int(self.p['Tree density'] * (self.p.size**2))\n",
    "        # trees = self.agents = ap.AgentList(self, n_trees)\n",
    "        \n",
    "        #Create agents (water)\n",
    "        n_water = int(self.p['Water density'] * (self.p.size**2))\n",
    "        water = self.agents = ap.AgentList(self, n_water)\n",
    "\n",
    "        # # Create grid (forest)\n",
    "        # self.forest = ap.Grid(self, [self.p.size]*2, track_empty=True)      \n",
    "        # self.forest.add_agents(trees, random=True, empty=True)\n",
    "\n",
    "        #Creacion lake\n",
    "        self.lake = ap.Grid(self, [self.p.size]*2, track_empty=True)      \n",
    "        self.lake.add_agents(water, random=True, empty=True)\n",
    "        \n",
    "        # # Initiate a dynamic variable for all trees\n",
    "        # # Condition 0: Alive, 1: Burning, 2: Burned\n",
    "        # self.agents.condition = 0 \n",
    "\n",
    "        # Initiate a dynamic variable for all trees\n",
    "        # Condition 0: Alive, 1: Evaporating, 2: Dry\n",
    "        self.agents.condition = 0 \n",
    "        \n",
    "        # # Start a fire from the left side of the grid\n",
    "        # unfortunate_trees = self.lake.agents[0:self.p.size, 0:2]\n",
    "        # unfortunate_trees.condition = 1 \n",
    "\n",
    "        # Start a fire from the left side of the grid\n",
    "        unfortunate_water = self.lake.agents[0:self.p.size, 0:2]\n",
    "        unfortunate_water.condition = 1 \n",
    "        \n",
    "    def step(self):\n",
    "    \n",
    "        #********** WATER ***********\n",
    "\n",
    "        #Se empieza a secar lagos aleatoriamente\n",
    "        disaster_prob = 0.0001\n",
    "        for water in self.agents.select(self.agents.condition == 0):\n",
    "            if random.random() < disaster_prob:\n",
    "                water.condition = 1\n",
    "        \n",
    "        # Select dry water\n",
    "        dry_water = self.agents.select(self.agents.condition == 1)\n",
    "\n",
    "        # Spread dry \n",
    "        for water in dry_water:\n",
    "            for neighbor in self.lake.neighbors(water):\n",
    "                if neighbor.condition == 0:\n",
    "                    neighbor.condition = 1 # Neighbor starts burning\n",
    "            water.condition = 2 # Water dry out  \n",
    "        \n",
    "        # Stop simulation if no fire is left\n",
    "        if len(dry_water) == 0: \n",
    "            self.stop()\n",
    "\n",
    "        #********** TREES ***********\n",
    "\n",
    "        # #Se empiezan a incendiar arboles aleatoriamente por desastres naturales\n",
    "        # disaster_prob = 0.0001\n",
    "        # for tree in self.agents.select(self.agents.condition == 0):\n",
    "        #     if random.random() < disaster_prob:\n",
    "        #         tree.condition = 1\n",
    "\n",
    "        # # Select burning trees\n",
    "        # burning_trees = self.agents.select(self.agents.condition == 1)\n",
    "\n",
    "        # # Spread fire \n",
    "        # for tree in burning_trees:\n",
    "        #     for neighbor in self.forest.neighbors(tree):\n",
    "        #         if neighbor.condition == 0:\n",
    "        #             neighbor.condition = 1 # Neighbor starts burning\n",
    "        #     tree.condition = 2 # Tree burns out  \n",
    "        \n",
    "        # # Stop simulation if no fire is left\n",
    "        # if len(burning_trees) == 0: \n",
    "        #     self.stop()\n",
    "\n",
    "        \n",
    "\n",
    "            \n",
    "    def end(self):\n",
    "        # Document a measure at the end of the simulation\n",
    "        dry_water = len(self.agents.select(self.agents.condition == 2))\n",
    "        self.report('Percentage of burned trees', \n",
    "                    dry_water / len(self.agents))\n",
    "\n",
    "        # # Document a measure at the end of the simulation\n",
    "        # burned_trees = len(self.agents.select(self.agents.condition == 2))\n",
    "        # self.report('Percentage of burned trees', \n",
    "        #             burned_trees / len(self.agents))"
   ]
  },
  {
   "cell_type": "markdown",
   "metadata": {},
   "source": [
    "## Single-run animation"
   ]
  },
  {
   "cell_type": "code",
   "execution_count": 105,
   "metadata": {},
   "outputs": [],
   "source": [
    "# Define parameters\n",
    "\n",
    "# parameters = {\n",
    "#     'Tree density': 0.6, # Percentage of grid covered by trees\n",
    "#     'size': 50, # Height and length of the grid\n",
    "#     'steps': 100,\n",
    "# }\n",
    "\n",
    "parameters = {\n",
    "    # 'Tree density': 0.6, # Percentage of grid covered by tree\n",
    "    'Water density': 0.6, # Percentage of grid covered by trees\n",
    "    'size': 50, # Height and length of the grid\n",
    "    'steps': 100,\n",
    "}\n"
   ]
  },
  {
   "cell_type": "code",
   "execution_count": 106,
   "metadata": {},
   "outputs": [
    {
     "ename": "AttributeError",
     "evalue": "LakeModel has no attribute 'forest'.",
     "output_type": "error",
     "traceback": [
      "\u001b[1;31m---------------------------------------------------------------------------\u001b[0m",
      "\u001b[1;31mAttributeError\u001b[0m                            Traceback (most recent call last)",
      "Cell \u001b[1;32mIn[106], line 14\u001b[0m\n\u001b[0;32m     12\u001b[0m model \u001b[38;5;241m=\u001b[39m LakeModel(parameters)\n\u001b[0;32m     13\u001b[0m animation \u001b[38;5;241m=\u001b[39m ap\u001b[38;5;241m.\u001b[39manimate(model, fig, ax, animation_plot)\n\u001b[1;32m---> 14\u001b[0m IPython\u001b[38;5;241m.\u001b[39mdisplay\u001b[38;5;241m.\u001b[39mHTML(\u001b[43manimation\u001b[49m\u001b[38;5;241;43m.\u001b[39;49m\u001b[43mto_jshtml\u001b[49m\u001b[43m(\u001b[49m\u001b[43mfps\u001b[49m\u001b[38;5;241;43m=\u001b[39;49m\u001b[38;5;241;43m15\u001b[39;49m\u001b[43m)\u001b[49m)\n",
      "File \u001b[1;32mc:\\Users\\IBS\\AppData\\Local\\Programs\\Python\\Python39\\lib\\site-packages\\matplotlib\\animation.py:1339\u001b[0m, in \u001b[0;36mAnimation.to_jshtml\u001b[1;34m(self, fps, embed_frames, default_mode)\u001b[0m\n\u001b[0;32m   1335\u001b[0m         path \u001b[38;5;241m=\u001b[39m Path(tmpdir, \u001b[38;5;124m\"\u001b[39m\u001b[38;5;124mtemp.html\u001b[39m\u001b[38;5;124m\"\u001b[39m)\n\u001b[0;32m   1336\u001b[0m         writer \u001b[38;5;241m=\u001b[39m HTMLWriter(fps\u001b[38;5;241m=\u001b[39mfps,\n\u001b[0;32m   1337\u001b[0m                             embed_frames\u001b[38;5;241m=\u001b[39membed_frames,\n\u001b[0;32m   1338\u001b[0m                             default_mode\u001b[38;5;241m=\u001b[39mdefault_mode)\n\u001b[1;32m-> 1339\u001b[0m         \u001b[38;5;28;43mself\u001b[39;49m\u001b[38;5;241;43m.\u001b[39;49m\u001b[43msave\u001b[49m\u001b[43m(\u001b[49m\u001b[38;5;28;43mstr\u001b[39;49m\u001b[43m(\u001b[49m\u001b[43mpath\u001b[49m\u001b[43m)\u001b[49m\u001b[43m,\u001b[49m\u001b[43m \u001b[49m\u001b[43mwriter\u001b[49m\u001b[38;5;241;43m=\u001b[39;49m\u001b[43mwriter\u001b[49m\u001b[43m)\u001b[49m\n\u001b[0;32m   1340\u001b[0m         \u001b[38;5;28mself\u001b[39m\u001b[38;5;241m.\u001b[39m_html_representation \u001b[38;5;241m=\u001b[39m path\u001b[38;5;241m.\u001b[39mread_text()\n\u001b[0;32m   1342\u001b[0m \u001b[38;5;28;01mreturn\u001b[39;00m \u001b[38;5;28mself\u001b[39m\u001b[38;5;241m.\u001b[39m_html_representation\n",
      "File \u001b[1;32mc:\\Users\\IBS\\AppData\\Local\\Programs\\Python\\Python39\\lib\\site-packages\\matplotlib\\animation.py:1082\u001b[0m, in \u001b[0;36mAnimation.save\u001b[1;34m(self, filename, writer, fps, dpi, codec, bitrate, extra_args, metadata, extra_anim, savefig_kwargs, progress_callback)\u001b[0m\n\u001b[0;32m   1080\u001b[0m \u001b[38;5;28;01melse\u001b[39;00m:\n\u001b[0;32m   1081\u001b[0m     total_frames \u001b[38;5;241m=\u001b[39m \u001b[38;5;28msum\u001b[39m(save_count_list)\n\u001b[1;32m-> 1082\u001b[0m \u001b[38;5;28;01mfor\u001b[39;00m data \u001b[38;5;129;01min\u001b[39;00m \u001b[38;5;28mzip\u001b[39m(\u001b[38;5;241m*\u001b[39m[a\u001b[38;5;241m.\u001b[39mnew_saved_frame_seq() \u001b[38;5;28;01mfor\u001b[39;00m a \u001b[38;5;129;01min\u001b[39;00m all_anim]):\n\u001b[0;32m   1083\u001b[0m     \u001b[38;5;28;01mfor\u001b[39;00m anim, d \u001b[38;5;129;01min\u001b[39;00m \u001b[38;5;28mzip\u001b[39m(all_anim, data):\n\u001b[0;32m   1084\u001b[0m         \u001b[38;5;66;03m# TODO: See if turning off blit is really necessary\u001b[39;00m\n\u001b[0;32m   1085\u001b[0m         anim\u001b[38;5;241m.\u001b[39m_draw_next_frame(d, blit\u001b[38;5;241m=\u001b[39m\u001b[38;5;28;01mFalse\u001b[39;00m)\n",
      "File \u001b[1;32mc:\\Users\\IBS\\AppData\\Local\\Programs\\Python\\Python39\\lib\\site-packages\\agentpy\\visualization.py:73\u001b[0m, in \u001b[0;36manimate.<locals>.frames\u001b[1;34m()\u001b[0m\n\u001b[0;32m     71\u001b[0m     pre_steps \u001b[38;5;241m+\u001b[39m\u001b[38;5;241m=\u001b[39m \u001b[38;5;241m1\u001b[39m\n\u001b[0;32m     72\u001b[0m \u001b[38;5;28;01melse\u001b[39;00m:\n\u001b[1;32m---> 73\u001b[0m     \u001b[43mmodel\u001b[49m\u001b[38;5;241;43m.\u001b[39;49m\u001b[43msim_step\u001b[49m\u001b[43m(\u001b[49m\u001b[43m)\u001b[49m\n\u001b[0;32m     74\u001b[0m     model\u001b[38;5;241m.\u001b[39mcreate_output()\n\u001b[0;32m     75\u001b[0m \u001b[38;5;28;01myield\u001b[39;00m model\u001b[38;5;241m.\u001b[39mt\n",
      "File \u001b[1;32mc:\\Users\\IBS\\AppData\\Local\\Programs\\Python\\Python39\\lib\\site-packages\\agentpy\\model.py:327\u001b[0m, in \u001b[0;36mModel.sim_step\u001b[1;34m(self)\u001b[0m\n\u001b[0;32m    324\u001b[0m \u001b[38;5;250m\u001b[39m\u001b[38;5;124;03m\"\"\" Proceeds the simulation by one step, incrementing `Model.t` by 1\u001b[39;00m\n\u001b[0;32m    325\u001b[0m \u001b[38;5;124;03mand then calling :func:`Model.step` and :func:`Model.update`.\"\"\"\u001b[39;00m\n\u001b[0;32m    326\u001b[0m \u001b[38;5;28mself\u001b[39m\u001b[38;5;241m.\u001b[39mt \u001b[38;5;241m+\u001b[39m\u001b[38;5;241m=\u001b[39m \u001b[38;5;241m1\u001b[39m\n\u001b[1;32m--> 327\u001b[0m \u001b[38;5;28;43mself\u001b[39;49m\u001b[38;5;241;43m.\u001b[39;49m\u001b[43mstep\u001b[49m\u001b[43m(\u001b[49m\u001b[43m)\u001b[49m\n\u001b[0;32m    328\u001b[0m \u001b[38;5;28mself\u001b[39m\u001b[38;5;241m.\u001b[39mupdate()\n\u001b[0;32m    329\u001b[0m \u001b[38;5;28;01mif\u001b[39;00m \u001b[38;5;28mself\u001b[39m\u001b[38;5;241m.\u001b[39mt \u001b[38;5;241m>\u001b[39m\u001b[38;5;241m=\u001b[39m \u001b[38;5;28mself\u001b[39m\u001b[38;5;241m.\u001b[39m_steps:\n",
      "Cell \u001b[1;32mIn[104], line 52\u001b[0m, in \u001b[0;36mLakeModel.step\u001b[1;34m(self)\u001b[0m\n\u001b[0;32m     50\u001b[0m \u001b[38;5;66;03m# Spread dry \u001b[39;00m\n\u001b[0;32m     51\u001b[0m \u001b[38;5;28;01mfor\u001b[39;00m water \u001b[38;5;129;01min\u001b[39;00m dry_water:\n\u001b[1;32m---> 52\u001b[0m     \u001b[38;5;28;01mfor\u001b[39;00m neighbor \u001b[38;5;129;01min\u001b[39;00m \u001b[38;5;28;43mself\u001b[39;49m\u001b[38;5;241;43m.\u001b[39;49m\u001b[43mforest\u001b[49m\u001b[38;5;241m.\u001b[39mneighbors(water):\n\u001b[0;32m     53\u001b[0m         \u001b[38;5;28;01mif\u001b[39;00m neighbor\u001b[38;5;241m.\u001b[39mcondition \u001b[38;5;241m==\u001b[39m \u001b[38;5;241m0\u001b[39m:\n\u001b[0;32m     54\u001b[0m             neighbor\u001b[38;5;241m.\u001b[39mcondition \u001b[38;5;241m=\u001b[39m \u001b[38;5;241m1\u001b[39m \u001b[38;5;66;03m# Neighbor starts burning\u001b[39;00m\n",
      "File \u001b[1;32mc:\\Users\\IBS\\AppData\\Local\\Programs\\Python\\Python39\\lib\\site-packages\\agentpy\\objects.py:27\u001b[0m, in \u001b[0;36mObject.__getattr__\u001b[1;34m(self, key)\u001b[0m\n\u001b[0;32m     26\u001b[0m \u001b[38;5;28;01mdef\u001b[39;00m\u001b[38;5;250m \u001b[39m\u001b[38;5;21m__getattr__\u001b[39m(\u001b[38;5;28mself\u001b[39m, key):\n\u001b[1;32m---> 27\u001b[0m     \u001b[38;5;28;01mraise\u001b[39;00m \u001b[38;5;167;01mAttributeError\u001b[39;00m(\u001b[38;5;124mf\u001b[39m\u001b[38;5;124m\"\u001b[39m\u001b[38;5;132;01m{\u001b[39;00m\u001b[38;5;28mself\u001b[39m\u001b[38;5;132;01m}\u001b[39;00m\u001b[38;5;124m has no attribute \u001b[39m\u001b[38;5;124m'\u001b[39m\u001b[38;5;132;01m{\u001b[39;00mkey\u001b[38;5;132;01m}\u001b[39;00m\u001b[38;5;124m'\u001b[39m\u001b[38;5;124m.\u001b[39m\u001b[38;5;124m\"\u001b[39m)\n",
      "\u001b[1;31mAttributeError\u001b[0m: LakeModel has no attribute 'forest'."
     ]
    }
   ],
   "source": [
    "# Create single-run animation with custom colors\n",
    "\n",
    "def animation_plot(model, ax):\n",
    "    attr_grid = model.lake.attr_grid('condition')\n",
    "    color_dict = {0:'#7FC97F', 1:'#d62c2c', 2:'#e5e5e5', None:'#d5e5d5'}\n",
    "    ap.gridplot(attr_grid, ax=ax, color_dict=color_dict, convert=True)\n",
    "    ax.set_title(f\"Simulation of a forest fire\\n\"\n",
    "                 f\"Time-step: {model.t}, Trees left: \"\n",
    "                 f\"{len(model.agents.select(model.agents.condition == 0))}\")\n",
    "\n",
    "fig, ax = plt.subplots() \n",
    "model = LakeModel(parameters)\n",
    "animation = ap.animate(model, fig, ax, animation_plot)\n",
    "IPython.display.HTML(animation.to_jshtml(fps=15))"
   ]
  },
  {
   "cell_type": "code",
   "execution_count": 98,
   "metadata": {},
   "outputs": [
    {
     "ename": "NameError",
     "evalue": "name 'trees' is not defined",
     "output_type": "error",
     "traceback": [
      "\u001b[1;31m---------------------------------------------------------------------------\u001b[0m",
      "\u001b[1;31mNameError\u001b[0m                                 Traceback (most recent call last)",
      "Cell \u001b[1;32mIn[98], line 13\u001b[0m\n\u001b[0;32m     11\u001b[0m fig, ax \u001b[38;5;241m=\u001b[39m plt\u001b[38;5;241m.\u001b[39msubplots() \n\u001b[0;32m     12\u001b[0m model \u001b[38;5;241m=\u001b[39m ForestModel(parameters)\n\u001b[1;32m---> 13\u001b[0m animation \u001b[38;5;241m=\u001b[39m \u001b[43map\u001b[49m\u001b[38;5;241;43m.\u001b[39;49m\u001b[43manimate\u001b[49m\u001b[43m(\u001b[49m\u001b[43mmodel\u001b[49m\u001b[43m,\u001b[49m\u001b[43m \u001b[49m\u001b[43mfig\u001b[49m\u001b[43m,\u001b[49m\u001b[43m \u001b[49m\u001b[43max\u001b[49m\u001b[43m,\u001b[49m\u001b[43m \u001b[49m\u001b[43manimation_plot\u001b[49m\u001b[43m)\u001b[49m\n\u001b[0;32m     14\u001b[0m IPython\u001b[38;5;241m.\u001b[39mdisplay\u001b[38;5;241m.\u001b[39mHTML(animation\u001b[38;5;241m.\u001b[39mto_jshtml(fps\u001b[38;5;241m=\u001b[39m\u001b[38;5;241m15\u001b[39m))\n",
      "File \u001b[1;32mc:\\Users\\IBS\\AppData\\Local\\Programs\\Python\\Python39\\lib\\site-packages\\agentpy\\visualization.py:59\u001b[0m, in \u001b[0;36manimate\u001b[1;34m(model, fig, axs, plot, steps, seed, skip, fargs, **kwargs)\u001b[0m\n\u001b[0;32m     17\u001b[0m \u001b[38;5;28;01mdef\u001b[39;00m\u001b[38;5;250m \u001b[39m\u001b[38;5;21manimate\u001b[39m(model, fig, axs, plot, steps\u001b[38;5;241m=\u001b[39m\u001b[38;5;28;01mNone\u001b[39;00m, seed\u001b[38;5;241m=\u001b[39m\u001b[38;5;28;01mNone\u001b[39;00m,\n\u001b[0;32m     18\u001b[0m             skip\u001b[38;5;241m=\u001b[39m\u001b[38;5;241m0\u001b[39m, fargs\u001b[38;5;241m=\u001b[39m(), \u001b[38;5;241m*\u001b[39m\u001b[38;5;241m*\u001b[39mkwargs):\n\u001b[0;32m     19\u001b[0m \u001b[38;5;250m    \u001b[39m\u001b[38;5;124;03m\"\"\" Returns an animation of the model simulation,\u001b[39;00m\n\u001b[0;32m     20\u001b[0m \u001b[38;5;124;03m    using :func:`matplotlib.animation.FuncAnimation`.\u001b[39;00m\n\u001b[0;32m     21\u001b[0m \n\u001b[1;32m   (...)\u001b[0m\n\u001b[0;32m     56\u001b[0m \u001b[38;5;124;03m            HTML(animation.to_jshtml())\u001b[39;00m\n\u001b[0;32m     57\u001b[0m \u001b[38;5;124;03m    \"\"\"\u001b[39;00m\n\u001b[1;32m---> 59\u001b[0m     \u001b[43mmodel\u001b[49m\u001b[38;5;241;43m.\u001b[39;49m\u001b[43msim_setup\u001b[49m\u001b[43m(\u001b[49m\u001b[43msteps\u001b[49m\u001b[43m,\u001b[49m\u001b[43m \u001b[49m\u001b[43mseed\u001b[49m\u001b[43m)\u001b[49m\n\u001b[0;32m     60\u001b[0m     model\u001b[38;5;241m.\u001b[39mcreate_output()\n\u001b[0;32m     61\u001b[0m     pre_steps \u001b[38;5;241m=\u001b[39m \u001b[38;5;241m0\u001b[39m\n",
      "File \u001b[1;32mc:\\Users\\IBS\\AppData\\Local\\Programs\\Python\\Python39\\lib\\site-packages\\agentpy\\model.py:316\u001b[0m, in \u001b[0;36mModel.sim_setup\u001b[1;34m(self, steps, seed)\u001b[0m\n\u001b[0;32m    313\u001b[0m \u001b[38;5;28mself\u001b[39m\u001b[38;5;241m.\u001b[39m_partly_run \u001b[38;5;241m=\u001b[39m \u001b[38;5;28;01mTrue\u001b[39;00m\n\u001b[0;32m    315\u001b[0m \u001b[38;5;66;03m# Execute setup and first update\u001b[39;00m\n\u001b[1;32m--> 316\u001b[0m \u001b[38;5;28mself\u001b[39m\u001b[38;5;241m.\u001b[39msetup(\u001b[38;5;241m*\u001b[39m\u001b[38;5;241m*\u001b[39m\u001b[38;5;28mself\u001b[39m\u001b[38;5;241m.\u001b[39m_setup_kwargs)\n\u001b[0;32m    317\u001b[0m \u001b[38;5;28mself\u001b[39m\u001b[38;5;241m.\u001b[39mupdate()\n\u001b[0;32m    319\u001b[0m \u001b[38;5;66;03m# Stop simulation if t too high\u001b[39;00m\n",
      "Cell \u001b[1;32mIn[96], line 19\u001b[0m, in \u001b[0;36mForestModel.setup\u001b[1;34m(self)\u001b[0m\n\u001b[0;32m     13\u001b[0m \u001b[38;5;66;03m# # Create grid (forest)\u001b[39;00m\n\u001b[0;32m     14\u001b[0m \u001b[38;5;66;03m# self.forest = ap.Grid(self, [self.p.size]*2, track_empty=True)      \u001b[39;00m\n\u001b[0;32m     15\u001b[0m \u001b[38;5;66;03m# self.forest.add_agents(trees, random=True, empty=True)\u001b[39;00m\n\u001b[0;32m     16\u001b[0m \n\u001b[0;32m     17\u001b[0m \u001b[38;5;66;03m#Creacion lake\u001b[39;00m\n\u001b[0;32m     18\u001b[0m \u001b[38;5;28mself\u001b[39m\u001b[38;5;241m.\u001b[39mlake \u001b[38;5;241m=\u001b[39m ap\u001b[38;5;241m.\u001b[39mGrid(\u001b[38;5;28mself\u001b[39m, [\u001b[38;5;28mself\u001b[39m\u001b[38;5;241m.\u001b[39mp\u001b[38;5;241m.\u001b[39msize]\u001b[38;5;241m*\u001b[39m\u001b[38;5;241m2\u001b[39m, track_empty\u001b[38;5;241m=\u001b[39m\u001b[38;5;28;01mTrue\u001b[39;00m)      \n\u001b[1;32m---> 19\u001b[0m \u001b[38;5;28mself\u001b[39m\u001b[38;5;241m.\u001b[39mlake\u001b[38;5;241m.\u001b[39madd_agents(\u001b[43mtrees\u001b[49m, random\u001b[38;5;241m=\u001b[39m\u001b[38;5;28;01mTrue\u001b[39;00m, empty\u001b[38;5;241m=\u001b[39m\u001b[38;5;28;01mTrue\u001b[39;00m)\n\u001b[0;32m     21\u001b[0m \u001b[38;5;66;03m# # Initiate a dynamic variable for all trees\u001b[39;00m\n\u001b[0;32m     22\u001b[0m \u001b[38;5;66;03m# # Condition 0: Alive, 1: Burning, 2: Burned\u001b[39;00m\n\u001b[0;32m     23\u001b[0m \u001b[38;5;66;03m# self.agents.condition = 0 \u001b[39;00m\n\u001b[0;32m     24\u001b[0m \n\u001b[0;32m     25\u001b[0m \u001b[38;5;66;03m# Initiate a dynamic variable for all trees\u001b[39;00m\n\u001b[0;32m     26\u001b[0m \u001b[38;5;66;03m# Condition 0: Alive, 1: Evaporating, 2: Dry\u001b[39;00m\n\u001b[0;32m     27\u001b[0m \u001b[38;5;28mself\u001b[39m\u001b[38;5;241m.\u001b[39magents\u001b[38;5;241m.\u001b[39mcondition \u001b[38;5;241m=\u001b[39m \u001b[38;5;241m0\u001b[39m \n",
      "\u001b[1;31mNameError\u001b[0m: name 'trees' is not defined"
     ]
    },
    {
     "data": {
      "image/png": "[encoded data removed]",
      "text/plain": [
       "<Figure size 640x480 with 1 Axes>"
      ]
     },
     "metadata": {},
     "output_type": "display_data"
    }
   ],
   "source": [
    "# Create single-run animation with custom colors\n",
    "\n",
    "def animation_plot(model, ax):\n",
    "    attr_grid = model.forest.attr_grid('condition')\n",
    "    color_dict = {0:'#7FC97F', 1:'#d62c2c', 2:'#e5e5e5', None:'#d5e5d5'}\n",
    "    ap.gridplot(attr_grid, ax=ax, color_dict=color_dict, convert=True)\n",
    "    ax.set_title(f\"Simulation of a forest fire\\n\"\n",
    "                 f\"Time-step: {model.t}, Trees left: \"\n",
    "                 f\"{len(model.agents.select(model.agents.condition == 0))}\")\n",
    "\n",
    "fig, ax = plt.subplots() \n",
    "model = ForestModel(parameters)\n",
    "animation = ap.animate(model, fig, ax, animation_plot)\n",
    "IPython.display.HTML(animation.to_jshtml(fps=15))"
   ]
  },
  {
   "cell_type": "markdown",
   "metadata": {},
   "source": [
    "## Parameter sweep"
   ]
  },
  {
   "cell_type": "code",
   "execution_count": 5,
   "metadata": {},
   "outputs": [],
   "source": [
    "# Prepare parameter sample\n",
    "parameters = {\n",
    "    'Tree density': ap.Range(0.2, 0.6), \n",
    "    'size': 100\n",
    "}\n",
    "sample = ap.Sample(parameters, n=30)"
   ]
  },
  {
   "cell_type": "code",
   "execution_count": 6,
   "metadata": {},
   "outputs": [
    {
     "name": "stdout",
     "output_type": "stream",
     "text": [
      "Scheduled runs: 1200\n",
      "Completed: 1200, estimated time remaining: 0:00:00\n",
      "Experiment finished\n",
      "Run time: 0:01:59.829418\n"
     ]
    }
   ],
   "source": [
    "# Perform experiment\n",
    "exp = ap.Experiment(ForestModel, sample, iterations=40)\n",
    "results = exp.run()"
   ]
  },
  {
   "cell_type": "code",
   "execution_count": 7,
   "metadata": {},
   "outputs": [
    {
     "name": "stdout",
     "output_type": "stream",
     "text": [
      "Data saved to ap_output/ForestModel_1\n",
      "Loading from directory ap_output/ForestModel_1/\n",
      "Loading info.json - Successful\n",
      "Loading parameters_constants.json - Successful\n",
      "Loading parameters_log.json - Successful\n",
      "Loading parameters_sample.csv - Successful\n",
      "Loading reporters.csv - Successful\n"
     ]
    }
   ],
   "source": [
    "# Save and load data\n",
    "results.save()\n",
    "results = ap.DataDict.load('ForestModel')"
   ]
  },
  {
   "cell_type": "code",
   "execution_count": 8,
   "metadata": {},
   "outputs": [
    {
     "data": {
      "image/png": "[encoded data removed]",
      "text/plain": [
       "<Figure size 640x480 with 1 Axes>"
      ]
     },
     "metadata": {},
     "output_type": "display_data"
    }
   ],
   "source": [
    "# Plot sensitivity\n",
    "sns.set_theme()\n",
    "sns.lineplot(\n",
    "    data=results.arrange_reporters(), \n",
    "    x='Tree density', \n",
    "    y='Percentage of burned trees'\n",
    ");"
   ]
  }
 ],
 "metadata": {
  "kernelspec": {
   "display_name": "Python 3",
   "language": "python",
   "name": "python3"
  },
  "language_info": {
   "codemirror_mode": {
    "name": "ipython",
    "version": 3
   },
   "file_extension": ".py",
   "mimetype": "text/x-python",
   "name": "python",
   "nbconvert_exporter": "python",
   "pygments_lexer": "ipython3",
   "version": "3.9.0"
  }
 },
 "nbformat": 4,
 "nbformat_minor": 4
}
